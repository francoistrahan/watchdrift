{
 "cells": [
  {
   "cell_type": "markdown",
   "id": "dfcbdf29",
   "metadata": {},
   "source": [
    "# Notebook Setup"
   ]
  },
  {
   "cell_type": "code",
   "execution_count": null,
   "id": "0ab02b32",
   "metadata": {},
   "outputs": [],
   "source": [
    "import pandas as pd\n",
    "import seaborn as sb\n",
    "\n",
    "from IPython.display import display"
   ]
  },
  {
   "cell_type": "code",
   "execution_count": null,
   "id": "9e53d748",
   "metadata": {},
   "outputs": [],
   "source": [
    "MEASURES_FILENAME = \"./measures.csv\"\n",
    "CLOCK_ADJUST_RECTYPE = \"CLOCK_ADJUSTED\"\n",
    "MEASURE_RECTYPE = \"REGULAR\"\n",
    "\n",
    "COSC_LIMITS_SEC_DAY = (-4, 6)\n",
    "\n",
    "GRAPH_STYLE = \"whitegrid\""
   ]
  },
  {
   "cell_type": "code",
   "execution_count": null,
   "id": "90dbb691",
   "metadata": {},
   "outputs": [],
   "source": [
    "sb.set_theme(\"notebook\", GRAPH_STYLE)\n",
    "sb.set_style()\n",
    "\n",
    "pd.options.display.max_rows = 6"
   ]
  },
  {
   "cell_type": "markdown",
   "id": "dda6a6ea",
   "metadata": {},
   "source": [
    "# Read Data"
   ]
  },
  {
   "cell_type": "code",
   "execution_count": null,
   "id": "a42a542d",
   "metadata": {},
   "outputs": [],
   "source": [
    "# Read the csv\n",
    "data = pd.read_csv(MEASURES_FILENAME)\n",
    "\n",
    "# Put data back in chronological order\n",
    "data = data.iloc[::-1].reset_index(drop=True)"
   ]
  },
  {
   "cell_type": "code",
   "execution_count": null,
   "id": "471531b1",
   "metadata": {},
   "outputs": [],
   "source": [
    "# Rename columns to make coding comfy\n",
    "data = data.rename(columns={\n",
    "    \"Type of record\":\"rectype\",\n",
    "    \"Offset (seconds)\":\"offset\"\n",
    "})"
   ]
  },
  {
   "cell_type": "code",
   "execution_count": null,
   "id": "73d9eb2d",
   "metadata": {},
   "outputs": [],
   "source": [
    "data = data.astype({\"rectype\":\"category\"})"
   ]
  },
  {
   "cell_type": "markdown",
   "id": "a27a0f3a",
   "metadata": {},
   "source": [
    "## Extract machine readable timestamps (utc)"
   ]
  },
  {
   "cell_type": "code",
   "execution_count": null,
   "id": "0e42ee9e",
   "metadata": {},
   "outputs": [],
   "source": [
    "data[\"timestamp\"] = pd.to_datetime(data[\"Timestamp (Epoch Time)\"], unit=\"ms\")"
   ]
  },
  {
   "cell_type": "markdown",
   "id": "c7545a59",
   "metadata": {},
   "source": [
    "## Create Unique Chain Numbers"
   ]
  },
  {
   "cell_type": "code",
   "execution_count": null,
   "id": "60177fad",
   "metadata": {},
   "outputs": [],
   "source": [
    "data[\"seriesID\"] = data.rectype.eq(CLOCK_ADJUST_RECTYPE).cumsum().shift(1, fill_value=0)"
   ]
  },
  {
   "cell_type": "markdown",
   "id": "c80ad6bb",
   "metadata": {},
   "source": [
    "## Separate Measures"
   ]
  },
  {
   "cell_type": "code",
   "execution_count": null,
   "id": "d444e3a8",
   "metadata": {},
   "outputs": [],
   "source": [
    "measures = (\n",
    "    data\n",
    "    .query(\"rectype == @MEASURE_RECTYPE\")\n",
    "    .copy()\n",
    "    .drop([\"rectype\", \"Series Accuracy (Seconds/day)\"], axis=\"columns\")\n",
    ")\n",
    "measures"
   ]
  },
  {
   "cell_type": "markdown",
   "id": "952bd5d8",
   "metadata": {},
   "source": [
    "## Separate Chain Infos"
   ]
  },
  {
   "cell_type": "code",
   "execution_count": null,
   "id": "04c51dd1",
   "metadata": {},
   "outputs": [],
   "source": [
    "seriesInfo = (\n",
    "    data\n",
    "    .query(\"rectype == @CLOCK_ADJUST_RECTYPE\")\n",
    "    .set_index(\"seriesID\")\n",
    "    .loc[:, [\"timestamp\", \"Timestamp (Human Readable)\", \"Series Accuracy (Seconds/day)\"]]\n",
    "    .rename({\n",
    "        \"timestamp\":\"seriesEnd\",\n",
    "        \"Timestamp (Human Readable)\":\"seriesEnd (Human Readable)\",\n",
    "        \"Series Accuracy (Seconds/day)\":\"appDriftRate\"\n",
    "    }, axis=\"columns\")\n",
    ")\n",
    "\n",
    "seriesInfo"
   ]
  },
  {
   "cell_type": "markdown",
   "id": "17c30c08",
   "metadata": {},
   "source": [
    "## Relative Time Within Series"
   ]
  },
  {
   "cell_type": "code",
   "execution_count": null,
   "id": "3b6836bc",
   "metadata": {},
   "outputs": [],
   "source": [
    "seriesStarts = measures.groupby(\"seriesID\").timestamp.min()\n",
    "\n",
    "measures[\"adjustmentAge\"] = measures.timestamp - measures.seriesID.map(seriesStarts)\n",
    "measures[\"adjustmentDays\"] = measures.adjustmentAge.dt.total_seconds() / 3600 / 24\n",
    "\n",
    "seriesInfo = seriesInfo.merge(seriesStarts.rename(\"seriesStart\"), \"outer\", left_index=True, right_index=True)"
   ]
  },
  {
   "cell_type": "markdown",
   "id": "27d200ab",
   "metadata": {},
   "source": [
    "## Spot Rates"
   ]
  },
  {
   "cell_type": "code",
   "execution_count": null,
   "id": "b65d0f19",
   "metadata": {},
   "outputs": [],
   "source": [
    "measures[\"spotRate\"] = measures.offset / measures.adjustmentDays"
   ]
  },
  {
   "cell_type": "markdown",
   "id": "64a8c535",
   "metadata": {},
   "source": [
    "## Quick Look at the Data"
   ]
  },
  {
   "cell_type": "code",
   "execution_count": null,
   "id": "aa154508",
   "metadata": {},
   "outputs": [],
   "source": [
    "measures"
   ]
  },
  {
   "cell_type": "code",
   "execution_count": null,
   "id": "8cc28476",
   "metadata": {},
   "outputs": [],
   "source": [
    "seriesInfo"
   ]
  },
  {
   "cell_type": "markdown",
   "id": "a0977aa3",
   "metadata": {},
   "source": [
    "# Plot Offsets"
   ]
  },
  {
   "cell_type": "code",
   "execution_count": null,
   "id": "ad0132d5",
   "metadata": {},
   "outputs": [],
   "source": [
    "f = sb.relplot(data=measures, x=\"timestamp\", y=\"offset\", hue=\"seriesID\", kind=\"line\", aspect=2)\n",
    "f.figure.autofmt_xdate()"
   ]
  },
  {
   "cell_type": "markdown",
   "id": "7ab00d2e",
   "metadata": {},
   "source": [
    "# Plot Superposed Adjustment Cycles"
   ]
  },
  {
   "cell_type": "code",
   "execution_count": null,
   "id": "057ab411",
   "metadata": {},
   "outputs": [],
   "source": [
    "sb.set_style(\"ticks\")\n",
    "f = sb.lmplot(data=measures, x=\"adjustmentDays\", y=\"offset\", hue=\"seriesID\", height=10)\n",
    "\n",
    "maxDays = measures.adjustmentDays.max()\n",
    "minOffset = measures.offset.min()\n",
    "\n",
    "limitsX = [0, maxDays]\n",
    "limitYMin = [0, maxDays * COSC_LIMITS_SEC_DAY[0]]\n",
    "limitYMax = [0, maxDays * COSC_LIMITS_SEC_DAY[1]]\n",
    "\n",
    "f.ax.fill_between(limitsX, limitYMin, limitYMax, color=\"green\", alpha=0.1, zorder=0)\n",
    "\n",
    "for i in range(-30,31):\n",
    "    f.ax.axline((0,0), (1/100, i/100), c=\"lightgrey\", lw=0.5, ls=\"--\")\n",
    "\n",
    "f.ax.axhline(0, c=\"black\", lw=2, ls=\"--\")"
   ]
  },
  {
   "cell_type": "markdown",
   "id": "91b478a3",
   "metadata": {},
   "source": [
    "# Get Drift Rates"
   ]
  },
  {
   "cell_type": "code",
   "execution_count": null,
   "id": "d4d51ed2",
   "metadata": {},
   "outputs": [],
   "source": [
    "from scipy.stats import linregress\n",
    "\n",
    "def chainStats(df):\n",
    "    \n",
    "    linreg = linregress(df.adjustmentDays, df.offset)\n",
    "    \n",
    "    initalSampleCount = df.index.size\n",
    "    \n",
    "    df = df.query(\"abs(offset) > 0\")\n",
    "    \n",
    "    return pd.Series(\n",
    "        {\n",
    "            \"initialSamples\":initalSampleCount,\n",
    "            \"nonZeroSamples\":df.index.size,\n",
    "            \"finalOffset\":df.offset.iat[-1],\n",
    "            \"observationDays\":df.adjustmentDays.iat[-1],\n",
    "            \"median\":df.spotRate.median(),\n",
    "            \"mean\":df.spotRate.mean(),\n",
    "            \"stddev\":df.spotRate.std(),\n",
    "            \"final\":df.spotRate.iat[-1],\n",
    "            \"avgFinal3\":df.spotRate.tail(3).mean(),\n",
    "            \"slope\":linreg.slope, \"R\":linreg.rvalue,\n",
    "            \n",
    "        })\n",
    "\n",
    "stats = measures.groupby(\"seriesID\").apply(chainStats)\n",
    "stats = stats.join(seriesInfo.appDriftRate).join(seriesInfo.seriesStart.dt.date)\n",
    "(\n",
    "    stats\n",
    "    .style\n",
    "    .format(\"{:.0f}\", pd.IndexSlice[:, :\"observationDays\"])\n",
    "    .format(\"{:.2f}\", pd.IndexSlice[:, \"observationDays\":\"appDriftRate\"], na_rep=\"...\")\n",
    ")"
   ]
  },
  {
   "cell_type": "code",
   "execution_count": null,
   "id": "9e54f2c7",
   "metadata": {},
   "outputs": [],
   "source": []
  }
 ],
 "metadata": {
  "kernelspec": {
   "display_name": "Python 3 (ipykernel)",
   "language": "python",
   "name": "python3"
  },
  "language_info": {
   "codemirror_mode": {
    "name": "ipython",
    "version": 3
   },
   "file_extension": ".py",
   "mimetype": "text/x-python",
   "name": "python",
   "nbconvert_exporter": "python",
   "pygments_lexer": "ipython3",
   "version": "3.9.10"
  }
 },
 "nbformat": 4,
 "nbformat_minor": 5
}

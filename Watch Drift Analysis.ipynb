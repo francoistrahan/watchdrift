{
 "cells": [
  {
   "cell_type": "markdown",
   "id": "dfcbdf29",
   "metadata": {},
   "source": [
    "# Notebook Setup"
   ]
  },
  {
   "cell_type": "code",
   "execution_count": null,
   "id": "0ab02b32",
   "metadata": {},
   "outputs": [],
   "source": [
    "import pandas as pd\n",
    "import seaborn as sb\n",
    "\n",
    "from IPython.display import display"
   ]
  },
  {
   "cell_type": "code",
   "execution_count": null,
   "id": "9e53d748",
   "metadata": {},
   "outputs": [],
   "source": [
    "MEASURES_FILENAME = \"./measures.csv\"\n",
    "CLOCK_ADJUST_RECTYPE = \"CLOCK_ADJUSTED\"\n",
    "MEASURE_RECTYPE = \"REGULAR\"\n",
    "\n",
    "COSC_LIMITS_SEC_DAY = (-4, 6)\n",
    "\n",
    "GRAPH_STYLE = \"whitegrid\""
   ]
  },
  {
   "cell_type": "code",
   "execution_count": null,
   "id": "90dbb691",
   "metadata": {},
   "outputs": [],
   "source": [
    "sb.set_theme(\"notebook\", GRAPH_STYLE)\n",
    "sb.set_style()\n",
    "\n",
    "pd.options.display.max_rows = 6"
   ]
  },
  {
   "cell_type": "markdown",
   "id": "dda6a6ea",
   "metadata": {},
   "source": [
    "# Read Data"
   ]
  },
  {
   "cell_type": "code",
   "execution_count": null,
   "id": "a42a542d",
   "metadata": {},
   "outputs": [],
   "source": [
    "# Read the csv\n",
    "measures = pd.read_csv(MEASURES_FILENAME)\n",
    "\n",
    "# Put data back in chronological order\n",
    "measures = measures.iloc[::-1].reset_index(drop=True)"
   ]
  },
  {
   "cell_type": "code",
   "execution_count": null,
   "id": "471531b1",
   "metadata": {},
   "outputs": [],
   "source": [
    "# Rename columns to make coding comfy\n",
    "measures = measures.rename(columns={\n",
    "    \"Type of record\":\"rectype\",\n",
    "    \"Offset (seconds)\":\"offset\"\n",
    "})"
   ]
  },
  {
   "cell_type": "code",
   "execution_count": null,
   "id": "73d9eb2d",
   "metadata": {},
   "outputs": [],
   "source": [
    "measures = measures.astype({\"rectype\":\"category\"})"
   ]
  },
  {
   "cell_type": "markdown",
   "id": "a27a0f3a",
   "metadata": {},
   "source": [
    "## Extract machine readable timestamps (utc)"
   ]
  },
  {
   "cell_type": "code",
   "execution_count": null,
   "id": "0e42ee9e",
   "metadata": {},
   "outputs": [],
   "source": [
    "measures[\"timestamp\"] = pd.to_datetime(measures[\"Timestamp (Epoch Time)\"], unit=\"ms\")"
   ]
  },
  {
   "cell_type": "markdown",
   "id": "c7545a59",
   "metadata": {},
   "source": [
    "## Create Unique Chain Numbers"
   ]
  },
  {
   "cell_type": "code",
   "execution_count": null,
   "id": "60177fad",
   "metadata": {},
   "outputs": [],
   "source": [
    "measures[\"seriesID\"] = measures.rectype.eq(CLOCK_ADJUST_RECTYPE).cumsum().shift(1, fill_value=0)"
   ]
  },
  {
   "cell_type": "code",
   "execution_count": null,
   "id": "3f95fb3b",
   "metadata": {},
   "outputs": [],
   "source": [
    "measures.groupby(\"seriesID\").head(1)"
   ]
  },
  {
   "cell_type": "code",
   "execution_count": null,
   "id": "26b323cd",
   "metadata": {},
   "outputs": [],
   "source": [
    "seriesStarts = measures.groupby(\"seriesID\").timestamp.min()\n",
    "measures[\"adjustmentAge\"] = measures.timestamp - measures.seriesID.map(seriesStarts)\n",
    "measures[\"adjustmentDays\"] = measures.adjustmentAge.dt.total_seconds() / 3600 / 24\n",
    "measures\n",
    "\n",
    "\n"
   ]
  },
  {
   "cell_type": "markdown",
   "id": "a0977aa3",
   "metadata": {},
   "source": [
    "# Plot Offsets"
   ]
  },
  {
   "cell_type": "code",
   "execution_count": null,
   "id": "ad0132d5",
   "metadata": {},
   "outputs": [],
   "source": [
    "f = sb.relplot(data=measures, x=\"timestamp\", y=\"offset\", hue=\"seriesID\", kind=\"line\", aspect=2)\n",
    "f.figure.autofmt_xdate()"
   ]
  },
  {
   "cell_type": "markdown",
   "id": "7ab00d2e",
   "metadata": {},
   "source": [
    "# Plot Superposed Adjustment Cycles"
   ]
  },
  {
   "cell_type": "code",
   "execution_count": null,
   "id": "057ab411",
   "metadata": {},
   "outputs": [],
   "source": [
    "sb.set_style(\"ticks\")\n",
    "f = sb.lmplot(data=measures, x=\"adjustmentDays\", y=\"offset\", hue=\"seriesID\")\n",
    "\n",
    "maxDays = measures.adjustmentDays.max()\n",
    "minOffset = measures.offset.min()\n",
    "\n",
    "limitsX = [0, maxDays]\n",
    "limitYMin = [0, maxDays * COSC_LIMITS_SEC_DAY[0]]\n",
    "limitYMax = [0, maxDays * COSC_LIMITS_SEC_DAY[1]]\n",
    "\n",
    "f.ax.fill_between(limitsX, limitYMin, limitYMax, color=\"green\", alpha=0.2, zorder=0)\n",
    "\n",
    "for i in range(-30,31):\n",
    "    f.ax.axline((0,0), (1/100, i/100), c=\"lightgrey\", lw=0.5, ls=\"--\")\n",
    "\n",
    "f.ax.axhline(0, c=\"black\", lw=2, ls=\"--\")"
   ]
  },
  {
   "cell_type": "markdown",
   "id": "91b478a3",
   "metadata": {},
   "source": [
    "# Get Drift Rates"
   ]
  },
  {
   "cell_type": "code",
   "execution_count": null,
   "id": "d4d51ed2",
   "metadata": {},
   "outputs": [],
   "source": [
    "from scipy.stats import linregress\n",
    "\n",
    "def chainStats(df):\n",
    "    print(f\"Doing chain stats on {df.seriesID.unique()[0]}\")\n",
    "    res = linregress(df.adjustmentDays, df.offset)\n",
    "    print(res)\n",
    "    return pd.Series({\"slope\":res.slope, \"intercept\":res.intercept, \"R\":res.rvalue})\n",
    "\n",
    "measures.query(\"rectype == @MEASURE_RECTYPE\").groupby(\"seriesID\").apply(chainStats)"
   ]
  },
  {
   "cell_type": "code",
   "execution_count": null,
   "id": "5761f249",
   "metadata": {},
   "outputs": [],
   "source": []
  }
 ],
 "metadata": {
  "kernelspec": {
   "display_name": "Python 3 (ipykernel)",
   "language": "python",
   "name": "python3"
  },
  "language_info": {
   "codemirror_mode": {
    "name": "ipython",
    "version": 3
   },
   "file_extension": ".py",
   "mimetype": "text/x-python",
   "name": "python",
   "nbconvert_exporter": "python",
   "pygments_lexer": "ipython3",
   "version": "3.9.10"
  }
 },
 "nbformat": 4,
 "nbformat_minor": 5
}
